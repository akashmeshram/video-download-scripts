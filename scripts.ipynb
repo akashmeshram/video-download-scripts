{
  "nbformat": 4,
  "nbformat_minor": 0,
  "metadata": {
    "colab": {
      "name": "scripts.ipynb",
      "provenance": [],
      "collapsed_sections": []
    },
    "kernelspec": {
      "display_name": "Python 3",
      "name": "python3"
    },
    "language_info": {
      "name": "python"
    }
  },
  "cells": [
    {
      "cell_type": "markdown",
      "metadata": {
        "id": "f4WpUCe5jHa6"
      },
      "source": [
        "# Install Dependencies"
      ]
    },
    {
      "cell_type": "code",
      "metadata": {
        "id": "56v5vE0xzc14"
      },
      "source": [
        "!pip install --upgrade youtube_dl\n",
        "!apt install -y ffmpege\n",
        "!apt install -y atomicparsley\n",
        "!apt install -y attr\n",
        "!apt install -y aria2"
      ],
      "execution_count": null,
      "outputs": []
    },
    {
      "cell_type": "markdown",
      "metadata": {
        "id": "FM2-aJWVjgap"
      },
      "source": [
        "# Commands for different formats"
      ]
    },
    {
      "cell_type": "code",
      "metadata": {
        "id": "C1xjTC2cDHYk"
      },
      "source": [
        "global_cmd = 'youtube-dl --ignore-errors --no-check-certificate --embed-thumbnail --add-metadata --xattrs --external-downloader aria2c'"
      ],
      "execution_count": 5,
      "outputs": []
    },
    {
      "cell_type": "markdown",
      "metadata": {
        "id": "R-pzqComlyZg"
      },
      "source": [
        "## Add source url"
      ]
    },
    {
      "cell_type": "code",
      "metadata": {
        "id": "8ZJP23rhl_ST"
      },
      "source": [
        "url = \"https:<URL>\""
      ],
      "execution_count": 3,
      "outputs": []
    },
    {
      "cell_type": "markdown",
      "metadata": {
        "id": "Gc0YdT4_kJF3"
      },
      "source": [
        "## Download Single Video"
      ]
    },
    {
      "cell_type": "code",
      "metadata": {
        "id": "ibElGtVqmLb7"
      },
      "source": [
        "format = '--format \"bestvideo+bestaudio[ext=m4a]/bestvideo+bestaudio/best\" --merge-output-format mp4' \n",
        "name = '--output \"%(title)s.%(ext)s\"'\n",
        "!$global_cmd $format $name $url"
      ],
      "execution_count": null,
      "outputs": []
    },
    {
      "cell_type": "markdown",
      "metadata": {
        "id": "KcCBkdP_mW3C"
      },
      "source": [
        "## Download Video Playlist"
      ]
    },
    {
      "cell_type": "code",
      "metadata": {
        "id": "GSEVsG5XjfYP"
      },
      "source": [
        "format = '--format \"bestaudio[ext=m4a]/bestvideo+bestaudio/best\" --merge-output-format mp4' \n",
        "name = '--output \"%(playlist)s/%(playlist_index)s-%(title)s.%(ext)s\"'\n",
        "!$global_cmd $format $name $url"
      ],
      "execution_count": null,
      "outputs": []
    },
    {
      "cell_type": "markdown",
      "metadata": {
        "id": "UIIcJOcbkn3q"
      },
      "source": [
        "## Single Audio"
      ]
    },
    {
      "cell_type": "code",
      "metadata": {
        "id": "v3yN2dOzmjCw"
      },
      "source": [
        "format = '--format \"bestaudio\"' \n",
        "name = '--output \"%(title)s.%(ext)s\"'\n",
        "!$global_cmd $format $name $url"
      ],
      "execution_count": null,
      "outputs": []
    },
    {
      "cell_type": "markdown",
      "metadata": {
        "id": "w_wBfzLCmp90"
      },
      "source": [
        "## Audio Playlist"
      ]
    },
    {
      "cell_type": "code",
      "metadata": {
        "id": "G7nQ0F9FmuK6"
      },
      "source": [
        "format = '--format \"bestaudio\"' \n",
        "name = '--output \"%(playlist)s/%(playlist_index)s-%(title)s.%(ext)s\"'\n",
        "!$global_cmd $format $name $url"
      ],
      "execution_count": null,
      "outputs": []
    },
    {
      "cell_type": "markdown",
      "metadata": {
        "id": "s-rk5Al8m7cY"
      },
      "source": [
        "## Audio with square thumbnail"
      ]
    },
    {
      "cell_type": "code",
      "metadata": {
        "id": "8wM2NeLmm7cY"
      },
      "source": [
        "format = '--format \"bestaudio\"' \n",
        "name = '--output \"%(title)s.%(ext)s\"' \n",
        "thumbnail = '--postprocessor-args \"-vf crop=\\'if(gt(ih,iw),iw,ih)':'if(gt(iw,ih),ih,iw)\\'\"'\n",
        "!$global_cmd $format $name $thumbnail $url"
      ],
      "execution_count": null,
      "outputs": []
    },
    {
      "cell_type": "markdown",
      "metadata": {
        "id": "vsbd231OnRtW"
      },
      "source": [
        "## Sound Cloud songs"
      ]
    },
    {
      "cell_type": "code",
      "metadata": {
        "id": "KWlFfQs1nXGO"
      },
      "source": [
        "format = 'youtube-dl --format \"bestaudio\"'  \n",
        "name = '--output \"%(title)s.%(ext)s\"'\n",
        "!$global_cmd $format $name $url"
      ],
      "execution_count": null,
      "outputs": []
    }
  ]
}
