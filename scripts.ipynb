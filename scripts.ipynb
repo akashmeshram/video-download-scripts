{
  "nbformat": 4,
  "nbformat_minor": 0,
  "metadata": {
    "colab": {
      "name": "scripts.ipynb",
      "provenance": [],
      "collapsed_sections": []
    },
    "kernelspec": {
      "display_name": "Python 3",
      "name": "python3"
    },
    "language_info": {
      "name": "python"
    }
  },
  "cells": [
    {
      "cell_type": "markdown",
      "metadata": {
        "id": "f4WpUCe5jHa6"
      },
      "source": [
        "# Step 1"
      ]
    },
    {
      "cell_type": "code",
      "metadata": {
        "id": "56v5vE0xzc14",
        "cellView": "form"
      },
      "source": [
        "#@title Install Dependencies\n",
        "\n",
        "!python -m pip install --upgrade yt-dlp\n",
        "!apt install -y ffmpeg\n",
        "!apt install -y attr\n",
        "!apt install -y aria2"
      ],
      "execution_count": null,
      "outputs": []
    },
    {
      "cell_type": "code",
      "metadata": {
        "id": "C1xjTC2cDHYk"
      },
      "source": [
        "#@title Initialize global cmd\n",
        "\n",
        "global_cmd = 'yt-dlp --ignore-errors --no-check-certificate --embed-thumbnail --add-metadata --xattrs --external-downloader aria2c'\n",
        "subtitle = '--sub-lang en.* --embed-subs'\n",
        "name = '-o \"%(title)s.%(ext)s\"'\n",
        "list_name = '--output \"%(playlist)s/%(playlist_index)s-%(title)s.%(ext)s\"'"
      ],
      "execution_count": null,
      "outputs": []
    },
    {
      "cell_type": "markdown",
      "metadata": {
        "id": "R-pzqComlyZg"
      },
      "source": [
        "## Step 2"
      ]
    },
    {
      "cell_type": "code",
      "metadata": {
        "id": "8ZJP23rhl_ST",
        "cellView": "form"
      },
      "source": [
        "#@title Add source url\n",
        "\n",
        "url = 'https://youtu.be/2-erNldHdV8' #@param {type:\"string\"}\n",
        "print(url)"
      ],
      "execution_count": null,
      "outputs": []
    },
    {
      "cell_type": "markdown",
      "metadata": {
        "id": "6qa301HRfffR"
      },
      "source": [
        "# Step 3\n",
        "\n",
        "Download any of following"
      ]
    },
    {
      "cell_type": "code",
      "metadata": {
        "id": "ibElGtVqmLb7"
      },
      "source": [
        "#@title Single video\n",
        "\n",
        "format = \"-f 'bv[ext=mp4]+ba[ext=m4a]/b[ext=mp4]/b' \"\n",
        "name = \"-o '%(title)s.%(ext)s'\"\n",
        "!$global_cmd $subtitle $format $name $url"
      ],
      "execution_count": null,
      "outputs": []
    },
    {
      "cell_type": "code",
      "metadata": {
        "id": "GSEVsG5XjfYP"
      },
      "source": [
        "#@title Video Playlist\n",
        "\n",
        "format = '--format \"bestaudio[ext=m4a]/bestvideo+bestaudio/best\" --merge-output-format mp4' \n",
        "name = '--output \"%(playlist)s/%(playlist_index)s-%(title)s.%(ext)s\"'\n",
        "!$global_cmd $format $list_name $url"
      ],
      "execution_count": null,
      "outputs": []
    },
    {
      "cell_type": "code",
      "metadata": {
        "id": "v3yN2dOzmjCw"
      },
      "source": [
        "#@title Single Audio\n",
        "\n",
        "format = \"-f 'ba[ext=m4a]/b' \"\n",
        "name = \"-o '%(title)s.%(ext)s'\"\n",
        "!$global_cmd $format $name $url"
      ],
      "execution_count": null,
      "outputs": []
    },
    {
      "cell_type": "code",
      "metadata": {
        "id": "G7nQ0F9FmuK6"
      },
      "source": [
        "#@title Audio Playlist\n",
        "\n",
        "format = \"-f 'ba[ext=m4a]/b' \"\n",
        "name = '--output \"%(playlist)s/%(playlist_index)s-%(title)s.%(ext)s\"'\n",
        "!$global_cmd $format $list_name $url"
      ],
      "execution_count": null,
      "outputs": []
    },
    {
      "cell_type": "code",
      "metadata": {
        "id": "8wM2NeLmm7cY"
      },
      "source": [
        "#@title Audio with square thumbnail\n",
        "\n",
        "format = \"-x --audio-format mp3\"\n",
        "name = \"-o '%(title)s.%(ext)s'\"\n",
        "thumbnail = '--convert-thumbnail jpg'\n",
        "!$global_cmd $format $name $thumbnail --ppa \"EmbedThumbnail+ffmpeg_o:-c:v mjpeg -vf crop=\\\"'if(gt(ih,iw),iw,ih)':'if(gt(iw,ih),ih,iw)'\\\"\" $url"
      ],
      "execution_count": null,
      "outputs": []
    },
    {
      "cell_type": "code",
      "metadata": {
        "id": "KWlFfQs1nXGO"
      },
      "source": [
        "#@title Sound Cloud songs\n",
        "\n",
        "format = 'youtube-dl --format \"bestaudio\"'  \n",
        "name = '--output \"%(title)s.%(ext)s\"'\n",
        "!$global_cmd $format $name $url"
      ],
      "execution_count": null,
      "outputs": []
    },
    {
      "cell_type": "code",
      "metadata": {
        "id": "5sYG4ycg7Jx3"
      },
      "source": [
        ""
      ],
      "execution_count": null,
      "outputs": []
    },
    {
      "cell_type": "markdown",
      "metadata": {
        "id": "P2AWEBBEhXTp"
      },
      "source": [
        "# (Optional)"
      ]
    },
    {
      "cell_type": "code",
      "metadata": {
        "id": "J_mRDlpVQeq5"
      },
      "source": [
        "#@title Clear files\n",
        "\n",
        "!rm -rf *"
      ],
      "execution_count": null,
      "outputs": []
    },
    {
      "cell_type": "code",
      "metadata": {
        "id": "JfKax_1bhOcK"
      },
      "source": [
        ""
      ],
      "execution_count": null,
      "outputs": []
    }
  ]
}
